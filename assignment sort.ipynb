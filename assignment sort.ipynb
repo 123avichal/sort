{
 "cells": [
  {
   "cell_type": "markdown",
   "id": "b63768ef-b155-4d63-98eb-8796003c8994",
   "metadata": {},
   "source": [
    "1.Given an array of n numbers, give an algorithm which gives the element appearing maximum\n",
    "number of times?"
   ]
  },
  {
   "cell_type": "code",
   "execution_count": 2,
   "id": "1d1c1520-a8a1-456e-900a-7a63ad6c1ecd",
   "metadata": {},
   "outputs": [],
   "source": [
    "def test(array):\n",
    "    max_value=0\n",
    "    max_elemnt=array[0]\n",
    "    for i in range(len(array)):\n",
    "        if array.count(i)>max_value:\n",
    "            max_value=array.count(i)\n",
    "            max_elemnt=i\n",
    "        return max_elemnt"
   ]
  },
  {
   "cell_type": "code",
   "execution_count": 4,
   "id": "344f942a-a3d8-414b-81b8-02b5b83445bc",
   "metadata": {},
   "outputs": [
    {
     "data": {
      "text/plain": [
       "11"
      ]
     },
     "execution_count": 4,
     "metadata": {},
     "output_type": "execute_result"
    }
   ],
   "source": [
    "array=[11,11,12,2,3,34]\n",
    "test(array)"
   ]
  },
  {
   "cell_type": "markdown",
   "id": "4a540975-783a-4a3a-b509-c9ac83a79bbe",
   "metadata": {},
   "source": [
    "Problem 2 : We are given a list of n-1 integers and these integers are in the range of 1 to n . There are no\n",
    "duplicates in the list. One of the integers is missing in the list. Give an algorithm to find that element Ex:\n",
    "[1,2,4,6,3,7,8] 5 is the missing num."
   ]
  },
  {
   "cell_type": "code",
   "execution_count": 11,
   "id": "cc4e5f85-7940-4d09-81fd-308373054190",
   "metadata": {},
   "outputs": [],
   "source": [
    "def missing(num):\n",
    "    num_set=set(num)\n",
    "    smallest_num=min(num_set)\n",
    "    maximum_num=max(num_set)\n",
    "    for num in range(smallest_num,maximum_num+1):\n",
    "        if num not in num_set:\n",
    "            return num"
   ]
  },
  {
   "cell_type": "code",
   "execution_count": 12,
   "id": "8b42d9a2-b4fe-42e9-9a9e-bc94fd4d7fb7",
   "metadata": {},
   "outputs": [
    {
     "data": {
      "text/plain": [
       "2"
      ]
     },
     "execution_count": 12,
     "metadata": {},
     "output_type": "execute_result"
    }
   ],
   "source": [
    "num=[1,3,4,5,6]\n",
    "missing(num)"
   ]
  },
  {
   "cell_type": "markdown",
   "id": "5babac69-9b06-4f1a-9c52-c2074ececbb0",
   "metadata": {},
   "source": [
    "Problem 3 : Given an array of n positive numbers. All numbers occurs even number of times except 1 which\n",
    "occurs odd number of times. Find that number in O(n) time and O(1) space. Ex: [1,2,3,2,3,1,3]. 3 is repeats odd\n",
    "times."
   ]
  },
  {
   "cell_type": "code",
   "execution_count": 20,
   "id": "235d8f97-336e-460d-8ab4-9c4b6ac480b5",
   "metadata": {},
   "outputs": [
    {
     "name": "stdout",
     "output_type": "stream",
     "text": [
      "3\n"
     ]
    }
   ],
   "source": [
    "def getOddOccurrence(arr, arr_size):\n",
    "     \n",
    "    for i in range(0,arr_size):\n",
    "        count = 0\n",
    "        for j in range(0, arr_size):\n",
    "            if arr[i] == arr[j]:\n",
    "                count+=1\n",
    "             \n",
    "        if (count % 2 != 0):\n",
    "            return arr[i]\n",
    "         \n",
    "    return -1\n",
    "     \n",
    "     \n",
    "# driver code \n",
    "arr = [1,2,3,2,3,1,3]\n",
    "n = len(arr)\n",
    "print(getOddOccurrence(arr, n))"
   ]
  },
  {
   "cell_type": "markdown",
   "id": "8200b6a2-52d4-4a46-8927-14597d01b1f7",
   "metadata": {},
   "source": [
    "Problem 4 : Given an array of n elements. Find two elements in the array such that their sum is equal to given\n",
    "element K."
   ]
  },
  {
   "cell_type": "code",
   "execution_count": 25,
   "id": "f35e14f2-13f4-4f61-89f4-b19bd87a9a95",
   "metadata": {},
   "outputs": [
    {
     "name": "stdout",
     "output_type": "stream",
     "text": [
      "Yes\n"
     ]
    }
   ],
   "source": [
    "def chkPair(A, size, x):\n",
    "    for i in range(0, size - 1):\n",
    "        for j in range(i + 1, size):\n",
    "            if (A[i] + A[j] == x):\n",
    "                return 1\n",
    "    return 0\n",
    " \n",
    " \n",
    "if __name__ == \"__main__\":\n",
    "    A = [0, -1, 2, -3, 1]\n",
    "    x = -2\n",
    "    size = len(A)\n",
    " \n",
    "    if (chkPair(A, size, x)):\n",
    "        print(\"Yes\")\n",
    " \n",
    "    else:\n",
    "        print(\"No\")"
   ]
  },
  {
   "cell_type": "markdown",
   "id": "e15a8b70-b44b-4e55-81ca-50f0a41add36",
   "metadata": {},
   "source": [
    "Problem 5 : Given an array of both positive and negative numbers, find two numbers such that their sum is\n",
    "closest to 0. Ex: [ 1 ,60 ,-10, 70, -80,85]. Ans : -80,85."
   ]
  },
  {
   "cell_type": "code",
   "execution_count": 27,
   "id": "aa11f2f9-a145-4842-bd40-acb645b88d25",
   "metadata": {},
   "outputs": [
    {
     "name": "stdout",
     "output_type": "stream",
     "text": [
      "The two elements whose sum is minimum are -80 and  85\n"
     ]
    }
   ],
   "source": [
    "def minAbsSumPair(arr,arr_size):\n",
    "    inv_count = 0\n",
    " \n",
    "    # Array should have at least\n",
    "    # two elements\n",
    "    if arr_size < 2:\n",
    "        print(\"Invalid Input\")\n",
    "        return\n",
    " \n",
    "    # Initialization of values \n",
    "    min_l = 0\n",
    "    min_r = 1\n",
    "    min_sum = arr[0] + arr[1]\n",
    "    for l in range (0, arr_size - 1):\n",
    "        for r in range (l + 1, arr_size):\n",
    "            sum = arr[l] + arr[r]                 \n",
    "            if abs(min_sum) > abs(sum):         \n",
    "                min_sum = sum\n",
    "                min_l = l\n",
    "                min_r = r\n",
    " \n",
    "    print(\"The two elements whose sum is minimum are\", \n",
    "            arr[min_l], \"and \", arr[min_r])\n",
    " \n",
    "\n",
    "arr = [1, 60, -10, 70, -80, 85]\n",
    " \n",
    "minAbsSumPair(arr, 6);"
   ]
  },
  {
   "cell_type": "markdown",
   "id": "a26a0155-af95-4d96-bc3c-9d89c29fe00e",
   "metadata": {},
   "source": [
    "Problem 6 : Given an array of n elements . Find three elements such that their sum is equal to the given\n",
    "number."
   ]
  },
  {
   "cell_type": "code",
   "execution_count": 28,
   "id": "cf85cdc2-2c47-4d58-be53-f4f6b34d7bb9",
   "metadata": {},
   "outputs": [
    {
     "name": "stdout",
     "output_type": "stream",
     "text": [
      "Triplet is 4 ,  10 ,  8\n"
     ]
    },
    {
     "data": {
      "text/plain": [
       "True"
      ]
     },
     "execution_count": 28,
     "metadata": {},
     "output_type": "execute_result"
    }
   ],
   "source": [
    "def find3Numbers(A, arr_size, sum):\n",
    " \n",
    "    # Fix the first element as A[i]\n",
    "    for i in range( 0, arr_size-2):\n",
    " \n",
    "        # Fix the second element as A[j]\n",
    "        for j in range(i + 1, arr_size-1): \n",
    "             \n",
    "            # Now look for the third number\n",
    "            for k in range(j + 1, arr_size):\n",
    "                if A[i] + A[j] + A[k] == sum:\n",
    "                    print(\"Triplet is\", A[i],\n",
    "                          \", \", A[j], \", \", A[k])\n",
    "                    return True\n",
    "     \n",
    "    # If we reach here, then no \n",
    "    # triplet was found\n",
    "    return False\n",
    " \n",
    "# Driver program to test above function \n",
    "A = [1, 4, 45, 6, 10, 8]\n",
    "sum = 22\n",
    "arr_size = len(A)\n",
    "find3Numbers(A, arr_size, sum)"
   ]
  },
  {
   "cell_type": "markdown",
   "id": "61ddad98-fdab-4365-9a5a-4ed875380a6d",
   "metadata": {},
   "source": [
    "Problem 7 : Given an array of n elements . Find three elements i, j, k in the array such that\n",
    "i * i + j * j = k*k."
   ]
  },
  {
   "cell_type": "code",
   "execution_count": 2,
   "id": "beeaedec-9d4d-45c9-8662-6b5eb0a37f57",
   "metadata": {},
   "outputs": [
    {
     "name": "stdout",
     "output_type": "stream",
     "text": [
      "4\n"
     ]
    }
   ],
   "source": [
    "\n",
    "def CountTriplets(arr, n):\n",
    "\n",
    "\tcnt = 0;\n",
    "\n",
    "\tfor i in range(0, n):\n",
    "\t\tfor j in range(i + 1, n):\n",
    "\t\t\tfor k in range(j + 1, n):\n",
    "\n",
    "\t\t\t\t# If it satisfy the\n",
    "\t\t\t\t# given conditions\n",
    "\t\t\t\tif (arr[k] < arr[i] and arr[i] < arr[j]):\n",
    "\t\t\t\t\tcnt += 1;\n",
    "\t\t\t\t\n",
    "\t# Return the final count\n",
    "\treturn cnt;\n",
    "\n",
    "# Driver Code\n",
    "\n",
    "# Given array arr[]\n",
    "arr = [ 2, 5, 1, 3, 0 ];\n",
    "\n",
    "n = len(arr);\n",
    "\n",
    "# Function Call\n",
    "print(CountTriplets(arr, n))\n",
    "\n"
   ]
  },
  {
   "cell_type": "markdown",
   "id": "688d749f-ff48-47f7-8fcf-31d1523b02d1",
   "metadata": {},
   "source": [
    "Problem 8 : An element is a majority if it appears more than n/2 times. Give an algorithm takes an array of n\n",
    "element as argument and identifies a majority (if it exists)."
   ]
  },
  {
   "cell_type": "markdown",
   "id": "4711a95d-eb96-42b1-b5c4-7208051e17fd",
   "metadata": {},
   "source": [
    "def majority_element(array):\n",
    "  count = {}\n",
    "  for element in array:\n",
    "    if element in count:\n",
    "      count[element] += 1\n",
    "    else:\n",
    "      count[element] = 1\n",
    "\n",
    "  for element, count in count.items():\n",
    "    if count > len(array) / 2:\n",
    "      return element\n",
    "\n",
    "  return None \n",
    "\n"
   ]
  },
  {
   "cell_type": "code",
   "execution_count": 16,
   "id": "3e8269ae-42f4-4a32-adfe-601b6554bb8e",
   "metadata": {},
   "outputs": [],
   "source": [
    "array=[1,3,4,5,6,3]\n",
    "majority_element(array)"
   ]
  },
  {
   "cell_type": "markdown",
   "id": "bf225ef4-33d4-4ba9-a837-c08345532d94",
   "metadata": {},
   "source": [
    "Problem 9 : Given n × n matrix, and in each row all 1’s are followed by 0’s. Find the row with the maximum\n",
    "number of 0’s."
   ]
  },
  {
   "cell_type": "code",
   "execution_count": 20,
   "id": "aba61494-9465-4bb9-8e87-e2fe4a923681",
   "metadata": {},
   "outputs": [
    {
     "name": "stdout",
     "output_type": "stream",
     "text": [
      "Index of row with maximum 1s is 2\n"
     ]
    }
   ],
   "source": [
    "R,C = 4,4\n",
    "def first(arr , low , high): \n",
    " \n",
    "    if(high >= low): \n",
    " \n",
    "        # Get the middle index \n",
    "        mid = low + (high - low)//2\n",
    "     \n",
    "        # Check if the element at middle index is first 1 \n",
    "        if ( ( mid == 0 or arr[mid-1] == 0) and arr[mid] == 1): \n",
    "            return mid \n",
    "     \n",
    "        # If the element is 0, recur for right side \n",
    "        elif (arr[mid] == 0): \n",
    "            return first(arr, (mid + 1), high); \n",
    "         \n",
    "        # If element is not first 1, recur for left side \n",
    "        else:\n",
    "            return first(arr, low, (mid -1)); \n",
    " \n",
    "    return -1\n",
    " \n",
    "# Function that returns index of row \n",
    "# with maximum number of 1s. \n",
    "def rowWithMax1s(mat): \n",
    " \n",
    "    # Initialize max values \n",
    "    max_row_index,Max = 0,-1\n",
    " \n",
    "    # Traverse for each row and count number of 1s \n",
    "    # by finding the index of first 1 \n",
    "    for i in range(R):\n",
    " \n",
    "        index = first (mat[i], 0, C-1)\n",
    "        if (index != -1 and C-index > Max):\n",
    "            Max = C - index; \n",
    "            max_row_index = i\n",
    " \n",
    "    return max_row_index \n",
    " \n",
    "# Driver Code\n",
    "mat = [[0, 0, 0, 1], \n",
    "       [0, 1, 1, 1], \n",
    "       [1, 1, 1, 1], \n",
    "       [0, 0, 0, 0]]\n",
    "print(\"Index of row with maximum 1s is \" + str(rowWithMax1s(mat)))"
   ]
  },
  {
   "cell_type": "markdown",
   "id": "9cc31b08-bd13-4beb-b17a-0cbed07c9c91",
   "metadata": {},
   "source": [
    "Problem 10 : Sort an array of 0’s, 1’s and 2’s [or R’s, G’s and B’s]: Given an array A[] consisting of 0’s, 1’s and\n",
    "2’s, give an algorithm for sorting A[].The algorithm should put all 0’s first, then all 1’s and finally all 2’s at the\n",
    "end. Example Input = {0,1,1,0,1,2,1,2,0,0,0,1}, Output = {0,0,0,0,0,1,1,1,1,1,2,2}"
   ]
  },
  {
   "cell_type": "code",
   "execution_count": 22,
   "id": "8ae39bd3-c0b2-41d7-97a8-81751b885c2b",
   "metadata": {},
   "outputs": [
    {
     "name": "stdout",
     "output_type": "stream",
     "text": [
      "0 0 0 0 0 1 1 1 1 1 2 2 "
     ]
    }
   ],
   "source": [
    "def sort012(a, arr_size):\n",
    "\tlo = 0\n",
    "\thi = arr_size - 1\n",
    "\tmid = 0\n",
    "\t# Iterate till all the elements\n",
    "\t# are sorted\n",
    "\twhile mid <= hi:\n",
    "\t\t# If the element is 0\n",
    "\t\tif a[mid] == 0:\n",
    "\t\t\ta[lo], a[mid] = a[mid], a[lo]\n",
    "\t\t\tlo = lo + 1\n",
    "\t\t\tmid = mid + 1\n",
    "\t\t# If the element is 1\n",
    "\t\telif a[mid] == 1:\n",
    "\t\t\tmid = mid + 1\n",
    "\t\t# If the element is 2\n",
    "\t\telse:\n",
    "\t\t\ta[mid], a[hi] = a[hi], a[mid]\n",
    "\t\t\thi = hi - 1\n",
    "\treturn a\n",
    "\n",
    "# Function to print array\n",
    "\n",
    "\n",
    "def printArray(a):\n",
    "\tfor k in a:\n",
    "\t\tprint(k, end=' ')\n",
    "\n",
    "\n",
    "# Driver Program\n",
    "arr = [0, 1, 1, 0, 1, 2, 1, 2, 0, 0, 0, 1]\n",
    "arr_size = len(arr)\n",
    "arr = sort012(arr, arr_size)\n",
    "printArray(arr)\n",
    "\n",
    "\n"
   ]
  },
  {
   "cell_type": "code",
   "execution_count": null,
   "id": "5921bd51-875b-4900-881e-a3c035e694b9",
   "metadata": {},
   "outputs": [],
   "source": []
  }
 ],
 "metadata": {
  "kernelspec": {
   "display_name": "Python 3 (ipykernel)",
   "language": "python",
   "name": "python3"
  },
  "language_info": {
   "codemirror_mode": {
    "name": "ipython",
    "version": 3
   },
   "file_extension": ".py",
   "mimetype": "text/x-python",
   "name": "python",
   "nbconvert_exporter": "python",
   "pygments_lexer": "ipython3",
   "version": "3.10.8"
  }
 },
 "nbformat": 4,
 "nbformat_minor": 5
}
